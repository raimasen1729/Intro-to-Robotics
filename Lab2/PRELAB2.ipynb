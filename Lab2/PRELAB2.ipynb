{
  "nbformat": 4,
  "nbformat_minor": 0,
  "metadata": {
    "colab": {
      "provenance": [],
      "collapsed_sections": [],
      "machine_shape": "hm"
    },
    "kernelspec": {
      "name": "python3",
      "display_name": "Python 3"
    },
    "language_info": {
      "name": "python"
    },
    "gpuClass": "premium"
  },
  "cells": [
    {
      "cell_type": "code",
      "execution_count": 5,
      "metadata": {
        "id": "uHvi2Ee2EbEq"
      },
      "outputs": [],
      "source": [
        "import sympy as sym\n",
        "import math\n",
        "\n",
        "a = [0, 0, 0, sym.Symbol('a3'), -sym.Symbol('a4'), 0, sym.Symbol('a6')]\n",
        "alpha = [0, -math.pi/2, math.pi/2, math.pi/2, -math.pi/2, math.pi/2, math.pi/2]\n",
        "d = [sym.Symbol('d1'), 0, 0, sym.Symbol('d3'), 0, sym.Symbol('d5'), sym.Symbol('d7')]\n",
        "theta = [0, math.pi/3, 0, math.pi, 0, 0, - math.pi/4]\n",
        "\n",
        "T_arr = []\n",
        "for i in range(7):\n",
        "    c, s = sym.cos(theta[i]), sym.sin(theta[i])\n",
        "    T = sym.Matrix([[c, -s*math.cos(alpha[i]), s*math.sin(alpha[i]), a[i]*c], [ s, c*math.cos(alpha[i]), -c*math.sin(alpha[i]), a[i]*s], [0, math.sin(alpha[i]), math.cos(alpha[i]), d[i]], [0, 0, 0, 1]])\n",
        "    T_arr.append(T)\n",
        "\n",
        "T_7_0 = T_arr[0]*T_arr[1]*T_arr[2]*T_arr[3]*T_arr[4]*T_arr[5]*T_arr[6]\n",
        "\n",
        "#index is weirdly from 0 to 15 unline normal matrix indices\n",
        "#print(T_7_0[15])"
      ]
    },
    {
      "cell_type": "code",
      "source": [
        "print(sym.simplify(sym.nsimplify(T_7_0,tolerance=1e-10,rational=True)))"
      ],
      "metadata": {
        "colab": {
          "base_uri": "https://localhost:8080/"
        },
        "id": "mpU4PD1E7LG3",
        "outputId": "5ef958b2-858d-4357-b48a-945cb15e276c"
      },
      "execution_count": 6,
      "outputs": [
        {
          "output_type": "stream",
          "name": "stdout",
          "text": [
            "Matrix([[-1558474675/4408032044, -8122283847/9378805531, 1014704514/2870017771, -a3/2 + a4/2 - 1558474675*a6/4408032044 - 8122283847*d7/9378805531], [-5619263198/9176218377, 1/2, 5023113472/8202709951, -8122283847*a3/9378805531 + 8122283847*a4/9378805531 - 5619263198*a6/9176218377 + d7/2], [-2786164732/3940231951, 0, -6638191913/9387821033, -2786164732*a6/3940231951 + d1 + d3 + d5], [0, 0, 0, 1]])\n"
          ]
        }
      ]
    },
    {
      "cell_type": "code",
      "source": [
        "#print(f't3 =', sym.simplify(sym.nsimplify(T_7_0[11],tolerance=1e-10,rational=True)))"
      ],
      "metadata": {
        "colab": {
          "base_uri": "https://localhost:8080/"
        },
        "id": "AZKhYTwZGsAj",
        "outputId": "36af288f-0091-419d-d89d-9bbc3be00e15"
      },
      "execution_count": 2,
      "outputs": [
        {
          "output_type": "stream",
          "name": "stdout",
          "text": [
            "t3 = -a3*sin(theta3)*cos(theta4) + a4*sin(theta3)*cos(theta4) - a6*sin(theta3)*cos(theta4 + theta6)*cos(theta7 - 3169251833/4035216761) + a6*sin(theta7 - 3169251833/4035216761)*cos(theta3) + d1 + d3*cos(theta3) + d5*cos(theta3) - d7*sin(theta3)*sin(theta4 + theta6)\n"
          ]
        }
      ]
    },
    {
      "cell_type": "code",
      "source": [
        "R_7_0 = sym.Matrix([[T_7_0[0], T_7_0[1], T_7_0[2]], [T_7_0[4], T_7_0[5], T_7_0[6]], [T_7_0[8], T_7_0[9], T_7_0[10]]])\n",
        "d_7_0 = sym.Matrix([T_7_0[3], T_7_0[7], T_7_0[11]])\n",
        "v = -R_7_0.T * d_7_0\n",
        "T_0_7 = sym.Matrix([[T_7_0[0], T_7_0[4], T_7_0[8], v[0]], [T_7_0[1], T_7_0[5], T_7_0[9], v[1]], [T_7_0[2], T_7_0[6], T_7_0[7], v[2]], [0, 0, 0, 1]])\n",
        "print(sym.simplify(sym.nsimplify(T_0_7,tolerance=1e-10,rational=True)))"
      ],
      "metadata": {
        "colab": {
          "base_uri": "https://localhost:8080/"
        },
        "id": "HzTgqh48OwXD",
        "outputId": "c70c03fd-3459-4864-fb2f-ab927052aab3"
      },
      "execution_count": 2,
      "outputs": [
        {
          "output_type": "stream",
          "name": "stdout",
          "text": [
            "Matrix([[cos(theta4 + theta6)*cos(theta7 - 3169251833/4035216761), sin(theta4 + theta6)*cos(theta7 - 3169251833/4035216761), sin(theta7 - 3169251833/4035216761), -a3*cos(theta6)*cos(theta7 - 3169251833/4035216761) + a4*cos(theta6)*cos(theta7 - 3169251833/4035216761) - a6 - d1*sin(theta7 - 3169251833/4035216761) - d3*sin(theta7 - 3169251833/4035216761) - d5*sin(theta7 - 3169251833/4035216761)], [sin(theta4 + theta6), -cos(theta4 + theta6), 0, -a3*sin(theta6) + a4*sin(theta6) - d7], [sin(theta7 - 3169251833/4035216761)*cos(theta4 + theta6), sin(theta4 + theta6)*sin(theta7 - 3169251833/4035216761), a3*sin(theta4) - a4*sin(theta4) + a6*sin(theta4 + theta6)*cos(theta7 - 3169251833/4035216761) - d7*cos(theta4 + theta6), -a3*sin(theta7 - 3169251833/4035216761)*cos(theta6) + a4*sin(theta7 - 3169251833/4035216761)*cos(theta6) + d1*cos(theta7 - 3169251833/4035216761) + d3*cos(theta7 - 3169251833/4035216761) + d5*cos(theta7 - 3169251833/4035216761)], [0, 0, 0, 1]])\n"
          ]
        }
      ]
    },
    {
      "cell_type": "code",
      "source": [
        "T_0_7 = sym.simplify(sym.nsimplify(T_0_7,tolerance=1e-10,rational=True))"
      ],
      "metadata": {
        "id": "Tr33FRKy8syJ"
      },
      "execution_count": 19,
      "outputs": []
    },
    {
      "cell_type": "code",
      "source": [
        "T_2_7 = sym.simplify(sym.nsimplify(T_0_7 * T_arr[0]*T_arr[1], tolerance=1e-10,rational=True))"
      ],
      "metadata": {
        "id": "et5pvbom-F0H"
      },
      "execution_count": 21,
      "outputs": []
    },
    {
      "cell_type": "code",
      "source": [
        "o_2_7 = sym.Matrix([T_2_7[3], T_2_7[7], T_2_7[11]])\n",
        "print(o_2_7)"
      ],
      "metadata": {
        "colab": {
          "base_uri": "https://localhost:8080/"
        },
        "id": "7824OOsw-p49",
        "outputId": "4d5745b9-816b-41fa-edcb-3114b4ef81c5"
      },
      "execution_count": 31,
      "outputs": [
        {
          "output_type": "stream",
          "name": "stdout",
          "text": [
            "Matrix([[-a3*cos(theta6)*cos(theta7 - 3169251833/4035216761) + a4*cos(theta6)*cos(theta7 - 3169251833/4035216761) - a6 - d3*sin(theta7 - 3169251833/4035216761) - d5*sin(theta7 - 3169251833/4035216761)], [-a3*sin(theta6) + a4*sin(theta6) - d7], [-a3*sin(theta7 - 3169251833/4035216761)*cos(theta6) + a4*sin(theta7 - 3169251833/4035216761)*cos(theta6) + d1*(a3*sin(theta4)*cos(theta1 + theta2) + a3*sin(theta1 + theta2)*cos(theta3)*cos(theta4) - a4*(sin(theta4)*cos(theta1 + theta2) + sin(theta1 + theta2)*cos(theta3)*cos(theta4)) + a6*(sin(theta1 + theta2)*cos(theta3)*cos(theta4 + theta6) + sin(theta4 + theta6)*cos(theta1 + theta2))*cos(theta7 - 3169251833/4035216761) + a6*sin(theta3)*sin(theta1 + theta2)*sin(theta7 - 3169251833/4035216761) + d3*sin(theta3)*sin(theta1 + theta2) + d5*sin(theta3)*sin(theta1 + theta2) + d7*(sin(theta1 + theta2)*sin(theta4 + theta6)*cos(theta3) - cos(theta1 + theta2)*cos(theta4 + theta6))) + d1*sin(theta3)*sin(theta7 - 3169251833/4035216761)*cos(theta4 + theta6) + d1*cos(theta3)*cos(theta7 - 3169251833/4035216761) + d3*cos(theta7 - 3169251833/4035216761) + d5*cos(theta7 - 3169251833/4035216761)]])\n"
          ]
        }
      ]
    }
  ]
}